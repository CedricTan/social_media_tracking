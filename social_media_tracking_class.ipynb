{
 "cells": [
  {
   "cell_type": "code",
   "execution_count": 7,
   "metadata": {},
   "outputs": [
    {
     "ename": "ModuleNotFoundError",
     "evalue": "No module named 'social_media_tracking_youtube'",
     "output_type": "error",
     "traceback": [
      "\u001b[1;31m---------------------------------------------------------------------------\u001b[0m",
      "\u001b[1;31mModuleNotFoundError\u001b[0m                       Traceback (most recent call last)",
      "\u001b[1;32m<ipython-input-7-2a0c0d82b291>\u001b[0m in \u001b[0;36m<module>\u001b[1;34m()\u001b[0m\n\u001b[0;32m      3\u001b[0m \u001b[1;31m# Will be used for each specific API and then fed into the Pandas Dataframe at a later point\u001b[0m\u001b[1;33m\u001b[0m\u001b[1;33m\u001b[0m\u001b[0m\n\u001b[0;32m      4\u001b[0m \u001b[1;31m# Or we can alternatively just iterate on the Pandas Dataframe initially with the class\u001b[0m\u001b[1;33m\u001b[0m\u001b[1;33m\u001b[0m\u001b[0m\n\u001b[1;32m----> 5\u001b[1;33m \u001b[1;32mimport\u001b[0m \u001b[0msocial_media_tracking_youtube\u001b[0m\u001b[1;33m.\u001b[0m\u001b[0mipynb\u001b[0m\u001b[1;33m\u001b[0m\u001b[0m\n\u001b[0m\u001b[0;32m      6\u001b[0m \u001b[1;33m\u001b[0m\u001b[0m\n\u001b[0;32m      7\u001b[0m \u001b[1;33m\u001b[0m\u001b[0m\n",
      "\u001b[1;31mModuleNotFoundError\u001b[0m: No module named 'social_media_tracking_youtube'"
     ]
    }
   ],
   "source": [
    "# Attempting to create an influencer class to collate all tags into the system\n",
    "# From class, we can parse out the necessary information\n",
    "# Will be used for each specific API and then fed into the Pandas Dataframe at a later point\n",
    "# Or we can alternatively just iterate on the Pandas Dataframe initially with the class\n",
    "\n",
    "\n",
    "class influencer:\n",
    "    def __init__(self, name, gender, gamer_tag, fb_tag, twitter_tag, yt_tag, insta_tag, twitch_tag):\n",
    "        self.name = name\n",
    "        self.gender = gender\n",
    "        self.gamer_tag = gamer_tag\n",
    "        self.fb_tag = fb_tag\n",
    "        self.twitter_tag = twitter_tag\n",
    "        self.yt_tag = yt_tag\n",
    "        self.insta_tag = insta_tag\n",
    "        self.twitch_tag = twitch_tag\n",
    "\n",
    "# Temp function to show the class functionality        \n",
    "# Will change to appropriate API functions in the future\n",
    "\n",
    "    def introduce_self(self):\n",
    "        print (\"My name is \" + self.name + \" and I am a \" + self.gender + \" influencer.\")\n",
    "        print (\"My gamer tag is \" + self.gamer_tag + \".\")\n",
    "        print (\"My social media handles are: \")\n",
    "        print (self.fb_tag)\n",
    "        print (self.twitter_tag)\n",
    "        print (self.yt_tag)\n",
    "        print (self.insta_tag)\n",
    "        print (self.twitch_tag)\n",
    "\n",
    "    \n",
    "r1 = influencer(\"Jason\", \"male\", \"JasonTV\", \"Jason_FB\", \"Jason_Twitter\", \"Jason_YT\", \"Jason_Insta\", \"Jason_Twitch\")\n",
    "\n",
    "r2 = influencer(\"Jack\", \"male\", \"JackTV\" ,\"Jack_FB\", \"Jack_Twitter\", \"Jack_YT\", \"Jack_Insta\", \"Jack_Twitch\")\n",
    "\n",
    "# Subsequently do the same method for each influencer - then code it into a list which you can just interate from.\n",
    "\n",
    "# Makes it easily scalable and we can append stuff to the list for future reference\n",
    "\n",
    "r3 = influencer(\"Mary\", \"female\", \"MaryTV\" , \"Mary_FB\", \"Mary_Twitter\", \"Mary_YT\", \"Mary_Insta\", \"Mary_Twitch\")\n",
    "\n",
    "list = [r1, r2]\n",
    "\n",
    "list.append(r3)\n",
    "\n",
    "for element in list:\n",
    "    element.introduce_self()\n",
    "    \n",
    "    \n",
    "    "
   ]
  },
  {
   "cell_type": "code",
   "execution_count": null,
   "metadata": {},
   "outputs": [],
   "source": []
  }
 ],
 "metadata": {
  "kernelspec": {
   "display_name": "Python 3",
   "language": "python",
   "name": "python3"
  },
  "language_info": {
   "codemirror_mode": {
    "name": "ipython",
    "version": 3
   },
   "file_extension": ".py",
   "mimetype": "text/x-python",
   "name": "python",
   "nbconvert_exporter": "python",
   "pygments_lexer": "ipython3",
   "version": "3.6.4"
  }
 },
 "nbformat": 4,
 "nbformat_minor": 2
}

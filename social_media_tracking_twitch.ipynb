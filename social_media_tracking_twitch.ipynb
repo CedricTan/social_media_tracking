{
 "cells": [
  {
   "cell_type": "code",
   "execution_count": 16,
   "metadata": {},
   "outputs": [
    {
     "name": "stdout",
     "output_type": "stream",
     "text": [
      "{'error': 'Not Found', 'status': 404, 'message': ''}\n"
     ]
    }
   ],
   "source": [
    "import requests\n",
    "import json\n",
    "\n",
    "url_twitch = 'https://api.twitch.tv/helix/'\n",
    "auth = 'g97iuu439ol732e6iylad6p7ouc6lu'\n",
    "\n",
    "r = requests.get('https://api.twitch.tv/helix/')\n",
    "r.json()\n",
    "print(r.json())\n",
    "\n",
    "#l = requests.get('https://api.twitch.tv/helix/users/follows?from_id=feelsboostedman10')\n",
    "    #'https://api.twitch.tv/helix/users/follows?from_id=feelsboostedman10', )\n",
    "#l.json()"
   ]
  },
  {
   "cell_type": "code",
   "execution_count": null,
   "metadata": {},
   "outputs": [],
   "source": []
  }
 ],
 "metadata": {
  "kernelspec": {
   "display_name": "Python 3",
   "language": "python",
   "name": "python3"
  },
  "language_info": {
   "codemirror_mode": {
    "name": "ipython",
    "version": 3
   },
   "file_extension": ".py",
   "mimetype": "text/x-python",
   "name": "python",
   "nbconvert_exporter": "python",
   "pygments_lexer": "ipython3",
   "version": "3.6.5"
  }
 },
 "nbformat": 4,
 "nbformat_minor": 2
}

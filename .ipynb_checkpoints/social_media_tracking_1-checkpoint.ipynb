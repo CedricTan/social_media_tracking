{
 "cells": [
  {
   "cell_type": "code",
   "execution_count": 4,
   "metadata": {},
   "outputs": [
    {
     "name": "stdout",
     "output_type": "stream",
     "text": [
      "6,794\n"
     ]
    }
   ],
   "source": [
    "# Python social_media_tracking\n",
    "# Twitter example\n",
    "\n",
    "import requests #Requests HTTP\n",
    "from bs4 import BeautifulSoup #BeautifulSoup\n",
    "\n",
    "# Simple one user profile.\n",
    "\n",
    "handle = 'PetraCSGO'\n",
    "url = \"https://twitter.com/{}\".format(handle)\n",
    "soup = BeautifulSoup(requests.get(url).text, 'html.parser')\n",
    "profile_views =  soup.find('li', {'class':'ProfileNav-item--followers'}).find('span', {'class':'ProfileNav-value'}).text\n",
    "print (profile_views)\n",
    "\n",
    "\n",
    "# Will use dictionary and iterate over again at a later point\n"
   ]
  },
  {
   "cell_type": "code",
   "execution_count": 9,
   "metadata": {},
   "outputs": [
    {
     "name": "stdout",
     "output_type": "stream",
     "text": [
      "https://twitter.com/PetraCSGO\n",
      "6,794\n",
      "https://twitter.com/bjkesports\n",
      "44.3K\n",
      "https://twitter.com/juliakiran\n",
      "57.6K\n"
     ]
    }
   ],
   "source": [
    "import requests #Requests HTTP\n",
    "from bs4 import BeautifulSoup #BeautifulSoup\n",
    "\n",
    "# Multiple user profiles.\n",
    "# Taking an array\n",
    "\n",
    "click_agency = ['PetraCSGO', 'bjkesports', 'juliakiran']\n",
    "\n",
    "for element in click_agency:\n",
    "    url = \"https://twitter.com/{}\".format(element)\n",
    "    print (url)\n",
    "    soup = BeautifulSoup(requests.get(url).text, 'html.parser')\n",
    "    profile_views =  soup.find('li', {'class':'ProfileNav-item--followers'}).find('span', {'class':'ProfileNav-value'}).text\n",
    "    print (profile_views)\n",
    "    \n",
    "# Simple text formatting but not accurate enough for data\n"
   ]
  },
  {
   "cell_type": "code",
   "execution_count": 12,
   "metadata": {},
   "outputs": [
    {
     "name": "stdout",
     "output_type": "stream",
     "text": [
      "PetraCSGO:\n",
      "Number of followers: 6794 \n",
      "bjkesports:\n",
      "Number of followers: 44296 \n",
      "juliakiran:\n",
      "Number of followers: 57630 \n"
     ]
    }
   ],
   "source": [
    "import requests #Requests HTTP\n",
    "from bs4 import BeautifulSoup #BeautifulSoup\n",
    "\n",
    "click_agency = ['PetraCSGO', 'bjkesports', 'juliakiran']\n",
    "\n",
    "for twitter_tag in click_agency:\n",
    "    temp = requests.get('https://twitter.com/'+ twitter_tag)\n",
    "    bs = BeautifulSoup(temp.text,'lxml')\n",
    "    try:\n",
    "        follow_box = bs.find('li',{'class':'ProfileNav-item ProfileNav-item--followers'})\n",
    "        followers = follow_box.find('a').find('span',{'class':'ProfileNav-value'})\n",
    "        print (twitter_tag + ':')\n",
    "        print(\"Number of followers: {} \".format(followers.get('data-count')))\n",
    "    except:\n",
    "        print('Account name not found...')"
   ]
  },
  {
   "cell_type": "code",
   "execution_count": 23,
   "metadata": {},
   "outputs": [
    {
     "name": "stdout",
     "output_type": "stream",
     "text": [
      "petrastoker:\n",
      "9311\n",
      "besiktasesports:\n",
      "111148\n",
      "jjuliakiran:\n",
      "83767\n"
     ]
    }
   ],
   "source": [
    "# Testing scraping HTML with Instagram\n",
    "# Does not even require beautiful soup - hacky way of doing it by finding a string and searching the gap in between\n",
    "# Not so satisfactory but can be done for now.\n",
    "\n",
    "import requests\n",
    "\n",
    "click_agency = ['petrastoker', 'besiktasesports', 'jjuliakiran']\n",
    "    \n",
    "for instagram_tag in click_agency:\n",
    "    url = 'https://www.instagram.com/' + instagram_tag\n",
    "    r = requests.get(url).text\n",
    "    try:\n",
    "        start = '\"edge_followed_by\":{\"count\":'\n",
    "        end = '},\"followed_by_viewer\"'\n",
    "    \n",
    "        print (instagram_tag + ':')\n",
    "        print (r[r.find(start)+len(start):r.rfind(end)])\n",
    "    except:\n",
    "        print ('Account name not found...')"
   ]
  },
  {
   "cell_type": "code",
   "execution_count": 46,
   "metadata": {},
   "outputs": [
    {
     "name": "stdout",
     "output_type": "stream",
     "text": [
      "<div class=\"_4bl9 _3bcp\"><div aria-keyshortcuts=\"Alt+/\" aria-label=\"Navigation assistant\" class=\"_6a _608n\" id=\"u_0_8\" role=\"menubar\"><div class=\"_6a uiPopover\" id=\"u_0_9\"><a aria-expanded=\"false\" aria-haspopup=\"true\" class=\"_42ft _4jy0 _55pi _2agf _4o_4 _63xb _p _4jy3 _517h _51sy\" href=\"#\" id=\"u_0_a\" rel=\"toggle\" role=\"button\" style=\"max-width:200px;\"><span class=\"_55pe\">Sections of this page</span><span class=\"_4o_3 _3-99\"><i class=\"img sp_7TPb4rZ1w7k sx_ef5ab4\"></i></span></a></div><div class=\"_6a _3bcs\"></div><div class=\"_6a mrm uiPopover\" id=\"u_0_b\"><a aria-expanded=\"false\" aria-haspopup=\"true\" class=\"_42ft _4jy0 _55pi _2agf _4o_4 _3_s2 _63xb _p _4jy3 _4jy1 selected _51sy\" href=\"#\" id=\"u_0_c\" rel=\"toggle\" role=\"button\" style=\"max-width:200px;\" tabindex=\"-1\"><span class=\"_55pe\">Accessibility help</span><span class=\"_4o_3 _3-99\"><i class=\"img sp_7TPb4rZ1w7k sx_5f955d\"></i></span></a></div></div></div>\n"
     ]
    }
   ],
   "source": [
    "#Altering previous code for Facebook functionality\n",
    "\n",
    "import requests\n",
    "from bs4 import BeautifulSoup\n",
    "\n",
    "click_agency = ['besiktasespor']\n",
    "\n",
    "for click_agency in click_agency:\n",
    "    try:\n",
    "        url = 'https://www.facebook.com/' + click_agency + '/'\n",
    "        html = requests.get(url)\n",
    "        soup = BeautifulSoup(html.text,'lxml')\n",
    "        f = soup.find('div', {'class' : '_4bl9'})\n",
    "        #likes = f.find('span', {'class' : '_4bl9'})\n",
    "        print(f)\n",
    "    except:\n",
    "        print ('Account name not found...')\n"
   ]
  },
  {
   "cell_type": "code",
   "execution_count": null,
   "metadata": {},
   "outputs": [],
   "source": []
  }
 ],
 "metadata": {
  "kernelspec": {
   "display_name": "Python 3",
   "language": "python",
   "name": "python3"
  },
  "language_info": {
   "codemirror_mode": {
    "name": "ipython",
    "version": 3
   },
   "file_extension": ".py",
   "mimetype": "text/x-python",
   "name": "python",
   "nbconvert_exporter": "python",
   "pygments_lexer": "ipython3",
   "version": "3.6.5"
  }
 },
 "nbformat": 4,
 "nbformat_minor": 2
}

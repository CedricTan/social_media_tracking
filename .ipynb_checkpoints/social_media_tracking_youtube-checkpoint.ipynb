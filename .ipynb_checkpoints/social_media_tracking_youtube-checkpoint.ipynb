{
 "cells": [
  {
   "cell_type": "code",
   "execution_count": 6,
   "metadata": {},
   "outputs": [
    {
     "name": "stdout",
     "output_type": "stream",
     "text": [
      "pewdiepie has 94,317,649 subscribers\n",
      "bgfilms has 4,122,055 subscribers\n",
      "rhettandlink2 has 15,294,165 subscribers\n"
     ]
    }
   ],
   "source": [
    "import urllib.request\n",
    "import json\n",
    "\n",
    "key = \"...\"\n",
    "\n",
    "# Testing iterations with famous accounts\n",
    "# pewdiepie = PewDiePie\n",
    "# bgfilms = Binging with Babish\n",
    "# rhettandlink2 = Good Mythical Morning\n",
    "\n",
    "dictionary = [\"pewdiepie\",\"bgfilms\", \"rhettandlink2\"]\n",
    "\n",
    "for name in dictionary:\n",
    "    data = urllib.request.urlopen(\"https://www.googleapis.com/youtube/v3/channels?part=statistics&forUsername=\"+name+\"&key=\"+key).read()\n",
    "    subs = json.loads(data)[\"items\"][0][\"statistics\"][\"subscriberCount\"]\n",
    "    print(name + \" has \" + \"{:,d}\".format(int(subs)) + \" subscribers\")\n"
   ]
  },
  {
   "cell_type": "code",
   "execution_count": null,
   "metadata": {},
   "outputs": [],
   "source": []
  }
 ],
 "metadata": {
  "kernelspec": {
   "display_name": "Python 3",
   "language": "python",
   "name": "python3"
  },
  "language_info": {
   "codemirror_mode": {
    "name": "ipython",
    "version": 3
   },
   "file_extension": ".py",
   "mimetype": "text/x-python",
   "name": "python",
   "nbconvert_exporter": "python",
   "pygments_lexer": "ipython3",
   "version": "3.6.4"
  }
 },
 "nbformat": 4,
 "nbformat_minor": 2
}

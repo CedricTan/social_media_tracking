{
 "cells": [
  {
   "cell_type": "code",
   "execution_count": 7,
   "metadata": {},
   "outputs": [
    {
     "name": "stdout",
     "output_type": "stream",
     "text": [
      "My name is Jason and I am a male influencer.\n",
      "My social media handles are: \n",
      "Jason_FB\n",
      "Jason_Twitter\n",
      "Jason_YT\n",
      "Jason_Insta\n",
      "Jason_Twitch\n",
      "My name is Jack and I am a male influencer.\n",
      "My social media handles are: \n",
      "Jack_FB\n",
      "Jack_Twitter\n",
      "Jack_YT\n",
      "Jack_Insta\n",
      "Jack_Twitch\n",
      "My name is Mary and I am a female influencer.\n",
      "My social media handles are: \n",
      "Mary_FB\n",
      "Mary_Twitter\n",
      "Mary_YT\n",
      "Mary_Insta\n",
      "Mary_Twitch\n"
     ]
    }
   ],
   "source": [
    "# Attempting to create an influencer class to collate all tags into the system\n",
    "# From class, we can parse out the necessary information\n",
    "# Will be used for each specific API and then fed into the Pandas Dataframe at a later point\n",
    "# Or we can alternatively just iterate on the Pandas Dataframe initially with the class\n",
    "\n",
    "class influencer:\n",
    "    def __init__(self, name, gender, fb_tag, twitter_tag, yt_tag, insta_tag, twitch_tag):\n",
    "        self.name = name\n",
    "        self.gender = gender\n",
    "        self.fb_tag = fb_tag\n",
    "        self.twitter_tag = twitter_tag\n",
    "        self.yt_tag = yt_tag\n",
    "        self.insta_tag = insta_tag\n",
    "        self.twitch_tag = twitch_tag\n",
    "\n",
    "# Temp function to show the class functionality        \n",
    "# Will change to appropriate API functions in the future\n",
    "\n",
    "    def introduce_self(self):\n",
    "        print (\"My name is \" + self.name + \" and I am a \" + self.gender + \" influencer.\")\n",
    "        print (\"My social media handles are: \")\n",
    "        print (self.fb_tag)\n",
    "        print (self.twitter_tag)\n",
    "        print (self.yt_tag)\n",
    "        print (self.insta_tag)\n",
    "        print (self.twitch_tag)\n",
    "\n",
    "    \n",
    "r1 = influencer(\"Jason\", \"male\", \"Jason_FB\", \"Jason_Twitter\", \"Jason_YT\", \"Jason_Insta\", \"Jason_Twitch\")\n",
    "\n",
    "r2 = influencer(\"Jack\", \"male\", \"Jack_FB\", \"Jack_Twitter\", \"Jack_YT\", \"Jack_Insta\", \"Jack_Twitch\")\n",
    "\n",
    "# Subsequently do the same method for each influencer - then code it into a list which you can just interate from.\n",
    "\n",
    "# Makes it easily scalable and we can append stuff to the list for future reference\n",
    "\n",
    "r3 = influencer(\"Mary\", \"female\", \"Mary_FB\", \"Mary_Twitter\", \"Mary_YT\", \"Mary_Insta\", \"Mary_Twitch\")\n",
    "\n",
    "list = [r1, r2]\n",
    "\n",
    "list.append(r3)\n",
    "\n",
    "for element in list:\n",
    "    element.introduce_self()\n",
    "    \n",
    "    \n",
    "    "
   ]
  },
  {
   "cell_type": "code",
   "execution_count": null,
   "metadata": {},
   "outputs": [],
   "source": []
  }
 ],
 "metadata": {
  "kernelspec": {
   "display_name": "Python 3",
   "language": "python",
   "name": "python3"
  },
  "language_info": {
   "codemirror_mode": {
    "name": "ipython",
    "version": 3
   },
   "file_extension": ".py",
   "mimetype": "text/x-python",
   "name": "python",
   "nbconvert_exporter": "python",
   "pygments_lexer": "ipython3",
   "version": "3.6.4"
  }
 },
 "nbformat": 4,
 "nbformat_minor": 2
}

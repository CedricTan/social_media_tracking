{
 "cells": [
  {
   "cell_type": "code",
   "execution_count": 6,
   "metadata": {},
   "outputs": [
    {
     "ename": "AttributeError",
     "evalue": "'influencer' object has no attribute 'self'",
     "output_type": "error",
     "traceback": [
      "\u001b[0;31m---------------------------------------------------------------------------\u001b[0m",
      "\u001b[0;31mAttributeError\u001b[0m                            Traceback (most recent call last)",
      "\u001b[0;32m<ipython-input-6-6e26c5f09419>\u001b[0m in \u001b[0;36m<module>\u001b[0;34m()\u001b[0m\n\u001b[1;32m     27\u001b[0m \u001b[0;31m# r1.introduce_self()\u001b[0m\u001b[0;34m\u001b[0m\u001b[0;34m\u001b[0m\u001b[0m\n\u001b[1;32m     28\u001b[0m \u001b[0;34m\u001b[0m\u001b[0m\n\u001b[0;32m---> 29\u001b[0;31m \u001b[0mprint\u001b[0m \u001b[0;34m(\u001b[0m\u001b[0mr1\u001b[0m\u001b[0;34m.\u001b[0m\u001b[0mself\u001b[0m\u001b[0;34m.\u001b[0m\u001b[0mname\u001b[0m\u001b[0;34m)\u001b[0m\u001b[0;34m\u001b[0m\u001b[0m\n\u001b[0m\u001b[1;32m     30\u001b[0m \u001b[0;34m\u001b[0m\u001b[0m\n\u001b[1;32m     31\u001b[0m \u001b[0;34m\u001b[0m\u001b[0m\n",
      "\u001b[0;31mAttributeError\u001b[0m: 'influencer' object has no attribute 'self'"
     ]
    }
   ],
   "source": [
    "# Attempting to create an influencer class to collate all tags into the system\n",
    "# From class, we can parse out the necessary information\n",
    "# Will be used for each specific API and then fed into the Pandas Dataframe at a later point\n",
    "# Or we can alternatively just iterate on the Pandas Dataframe initially with the class\n",
    "\n",
    "class influencer:\n",
    "    def __init__(self, name, gender, fb_tag, twitter_tag, yt_tag, insta_tag, twitch_tag):\n",
    "        self.name = name\n",
    "        self.gender = gender\n",
    "        self.fb_tag = fb_tag\n",
    "        self.twitter_tag = twitter_tag\n",
    "        self.yt_tag = yt_tag\n",
    "        self.insta_tag = insta_tag\n",
    "        self.twitch_tag = twitch_tag\n",
    "        \n",
    "    def introduce_self(self):\n",
    "        print (\"My name is \" + self.name + \" and I am a \" + self.gender + \" influencer.\")\n",
    "        print (\"My social media handles are: \")\n",
    "        print (self.fb_tag)\n",
    "        print (self.twitter_tag)\n",
    "        print (self.yt_tag)\n",
    "        print (self.insta_tag)\n",
    "        print (self.twitch_tag)\n",
    "\n",
    "    \n",
    "r1 = influencer(\"Jason\", \"male\", \"Jason_FB\", \"Jason_Twitter\", \"Jason_YT\", \"Jason_Insta\", \"Jason_Twitch\")\n",
    "# r1.introduce_self()\n",
    "\n",
    "    \n",
    "    \n",
    "    "
   ]
  },
  {
   "cell_type": "code",
   "execution_count": null,
   "metadata": {},
   "outputs": [],
   "source": []
  }
 ],
 "metadata": {
  "kernelspec": {
   "display_name": "Python 3",
   "language": "python",
   "name": "python3"
  },
  "language_info": {
   "codemirror_mode": {
    "name": "ipython",
    "version": 3
   },
   "file_extension": ".py",
   "mimetype": "text/x-python",
   "name": "python",
   "nbconvert_exporter": "python",
   "pygments_lexer": "ipython3",
   "version": "3.6.5"
  }
 },
 "nbformat": 4,
 "nbformat_minor": 2
}

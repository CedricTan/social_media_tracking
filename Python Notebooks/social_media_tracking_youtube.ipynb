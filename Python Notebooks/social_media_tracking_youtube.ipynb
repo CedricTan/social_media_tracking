{
 "cells": [
  {
   "cell_type": "code",
   "execution_count": 2,
   "metadata": {},
   "outputs": [
    {
     "name": "stdout",
     "output_type": "stream",
     "text": [
      "UCLJVUlpsxZcIMECVDcZaM2g has 294,549 subscribers\n",
      "UCivYPxa0OOOIvm0o6IzOfpg has 10 subscribers\n",
      "UCcK5i5pUwrsOeWMLejutjLA has 23 subscribers\n",
      "UCKX48fpI5eEZbENM5wceFCg has 17,947 subscribers\n",
      "UCj65Y0kwpf_wjQqzJ6AHxmA has 7,962 subscribers\n",
      "UChNmrZkK1uNpgHdAxLTjs9w has 13,739 subscribers\n",
      "UC6mvrTikwy8kBefspW0BsUQ has 41,755 subscribers\n",
      "UCi_VsjkIy8vPMQnRMhPu9OA has 37,174 subscribers\n",
      "UCNE1O_-o0E4YXyTyC3q3tRQ has 1,241 subscribers\n",
      "UCeVNYyMY2RKUtZPae0f1kYA has 954 subscribers\n",
      "UCdPc5DbkH4V9MxhF-Oqadgw has 4,513 subscribers\n"
     ]
    }
   ],
   "source": [
    "import urllib.request\n",
    "import json\n",
    "\n",
    "key = \"...\"\n",
    "\n",
    "# Testing iterations with click accounts\n",
    "\n",
    "dictionary = [\"UCLJVUlpsxZcIMECVDcZaM2g\",\"UCivYPxa0OOOIvm0o6IzOfpg\", \"UCcK5i5pUwrsOeWMLejutjLA\",\"UCKX48fpI5eEZbENM5wceFCg\",'UCj65Y0kwpf_wjQqzJ6AHxmA','UChNmrZkK1uNpgHdAxLTjs9w','UC6mvrTikwy8kBefspW0BsUQ','UCi_VsjkIy8vPMQnRMhPu9OA','UCNE1O_-o0E4YXyTyC3q3tRQ','UCeVNYyMY2RKUtZPae0f1kYA','UCdPc5DbkH4V9MxhF-Oqadgw']\n",
    "\n",
    "for name in dictionary:\n",
    "    data = urllib.request.urlopen(\"https://www.googleapis.com/youtube/v3/channels?part=statistics&id=\"+name+\"&key=\"+key).read()\n",
    "    subs = json.loads(data)[\"items\"][0][\"statistics\"][\"subscriberCount\"]\n",
    "    print(name + \" has \" + \"{:,d}\".format(int(subs)) + \" subscribers\")\n"
   ]
  },
  {
   "cell_type": "code",
   "execution_count": null,
   "metadata": {},
   "outputs": [],
   "source": [
    "\n",
    "def youtube_subscribers():\n",
    "    data = urllib.request.urlopen(\"https://www.googleapis.com/youtube/v3/channels?part=statistics&forUsername=\"+name+\"&key=\"+key).read()\n",
    "    subs = json.loads(data)[\"items\"][0][\"statistics\"][\"subscriberCount\"]\n",
    "    print(name + \" has \" + \"{:,d}\".format(int(subs)) + \" subscribers\")"
   ]
  }
 ],
 "metadata": {
  "kernelspec": {
   "display_name": "Python 3",
   "language": "python",
   "name": "python3"
  },
  "language_info": {
   "codemirror_mode": {
    "name": "ipython",
    "version": 3
   },
   "file_extension": ".py",
   "mimetype": "text/x-python",
   "name": "python",
   "nbconvert_exporter": "python",
   "pygments_lexer": "ipython3",
   "version": "3.6.5"
  }
 },
 "nbformat": 4,
 "nbformat_minor": 2
}

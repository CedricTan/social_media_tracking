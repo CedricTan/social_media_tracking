{
 "cells": [
  {
   "cell_type": "code",
   "execution_count": 76,
   "metadata": {},
   "outputs": [
    {
     "name": "stdout",
     "output_type": "stream",
     "text": [
      "User ID: 206324855\n",
      "Display Name: feelsboostedman10\n",
      "Follower Count: 9\n",
      "User ID: 137512364\n",
      "Display Name: OverwatchLeague\n",
      "Follower Count: 1,499,204\n",
      "User ID: 198577793\n",
      "Display Name: acrasia\n",
      "Follower Count: 1\n",
      "User ID: 24538518\n",
      "Display Name: C9Sneaky\n",
      "Follower Count: 1,442,538\n"
     ]
    }
   ],
   "source": [
    "import requests\n",
    "\n",
    "# r = requests.get('https://api.twitch.tv/helix/', headers={\"Client-ID\": \"g97iuu439ol732e6iylad6p7ouc6lu\"})\n",
    "\n",
    "user_name = ['feelsboostedman10', 'overwatchleague', 'acrasia', 'c9sneaky']\n",
    "\n",
    "for user_name in user_name:\n",
    "    user_request = requests.get('https://api.twitch.tv/helix/users?login=' + user_name, headers={\"Client-ID\": \"g97iuu439ol732e6iylad6p7ouc6lu\"})\n",
    "    user_data = user_request.json()\n",
    "    user_id = user_data['data'][0]['id']\n",
    "    print(\"User ID: \" + user_id)\n",
    "    print(\"Display Name: \" + user_data['data'][0]['display_name'])\n",
    "    \n",
    "    user_channel_data = requests.get('https://api.twitch.tv/helix/users/follows?to_id=' + user_id, headers={\"Client-ID\": \"g97iuu439ol732e6iylad6p7ouc6lu\"})\n",
    "    user_follows = user_channel_data.json()\n",
    "    print(\"Follower Count: \" + '{:,}'.format((user_follows['total'])))"
   ]
  },
  {
   "cell_type": "code",
   "execution_count": null,
   "metadata": {},
   "outputs": [],
   "source": []
  }
 ],
 "metadata": {
  "kernelspec": {
   "display_name": "Python 3",
   "language": "python",
   "name": "python3"
  },
  "language_info": {
   "codemirror_mode": {
    "name": "ipython",
    "version": 3
   },
   "file_extension": ".py",
   "mimetype": "text/x-python",
   "name": "python",
   "nbconvert_exporter": "python",
   "pygments_lexer": "ipython3",
   "version": "3.6.5"
  }
 },
 "nbformat": 4,
 "nbformat_minor": 2
}

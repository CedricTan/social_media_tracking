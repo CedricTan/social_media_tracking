{
 "cells": [
  {
   "cell_type": "code",
   "execution_count": 12,
   "metadata": {},
   "outputs": [
    {
     "name": "stdout",
     "output_type": "stream",
     "text": [
      "BarackObama\n",
      "105699616\n",
      "It's an int!\n"
     ]
    }
   ],
   "source": [
    "from tweepy import OAuthHandler\n",
    "from tweepy import API\n",
    "from tweepy import Cursor\n",
    "import sys\n",
    "\n",
    "consumer_key = \"...\"\n",
    "consumer_secret = \"...\"\n",
    "access_token= \"...\"\n",
    "access_token_secret=\"...\"\n",
    "auth = OAuthHandler(consumer_key, consumer_secret)\n",
    "auth.set_access_token(access_token, access_token_secret)\n",
    "auth_api = API(auth)\n",
    "\n",
    "user = auth_api.get_user(\"barackobama\")\n",
    "user_screen_name = user.screen_name\n",
    "user_followers_count = user.followers_count\n",
    "\n",
    "print (user_screen_name)\n",
    "print (user_followers_count)\n",
    "\n",
    "try:\n",
    "    user_followers_count = int(user_followers_count)\n",
    "    print (\"It's an int!\")\n",
    "except ValueError:\n",
    "    pass"
   ]
  },
  {
   "cell_type": "code",
   "execution_count": null,
   "metadata": {},
   "outputs": [],
   "source": []
  }
 ],
 "metadata": {
  "kernelspec": {
   "display_name": "Python 3",
   "language": "python",
   "name": "python3"
  },
  "language_info": {
   "codemirror_mode": {
    "name": "ipython",
    "version": 3
   },
   "file_extension": ".py",
   "mimetype": "text/x-python",
   "name": "python",
   "nbconvert_exporter": "python",
   "pygments_lexer": "ipython3",
   "version": "3.6.4"
  }
 },
 "nbformat": 4,
 "nbformat_minor": 2
}
